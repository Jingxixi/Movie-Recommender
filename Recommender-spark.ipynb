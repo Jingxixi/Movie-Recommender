{
 "cells": [
  {
   "cell_type": "markdown",
   "metadata": {},
   "source": [
    "### Check Spark Environment"
   ]
  },
  {
   "cell_type": "code",
   "execution_count": 1,
   "metadata": {},
   "outputs": [
    {
     "data": {
      "text/html": [
       "\n",
       "            <div>\n",
       "                <p><b>SparkSession - hive</b></p>\n",
       "                \n",
       "        <div>\n",
       "            <p><b>SparkContext</b></p>\n",
       "\n",
       "            <p><a href=\"http://domino-run-5d5535c4c9e77c0007baed23:4040\">Spark UI</a></p>\n",
       "\n",
       "            <dl>\n",
       "              <dt>Version</dt>\n",
       "                <dd><code>v2.4.0</code></dd>\n",
       "              <dt>Master</dt>\n",
       "                <dd><code>local[*]</code></dd>\n",
       "              <dt>AppName</dt>\n",
       "                <dd><code>PySparkShell</code></dd>\n",
       "            </dl>\n",
       "        </div>\n",
       "        \n",
       "            </div>\n",
       "        "
      ],
      "text/plain": [
       "<pyspark.sql.session.SparkSession at 0x7fb68ac71710>"
      ]
     },
     "execution_count": 1,
     "metadata": {},
     "output_type": "execute_result"
    }
   ],
   "source": [
    "spark"
   ]
  },
  {
   "cell_type": "code",
   "execution_count": 2,
   "metadata": {},
   "outputs": [
    {
     "data": {
      "text/plain": [
       "<pyspark.sql.context.SQLContext at 0x7fb68ac71898>"
      ]
     },
     "execution_count": 2,
     "metadata": {},
     "output_type": "execute_result"
    }
   ],
   "source": [
    "sqlContext"
   ]
  },
  {
   "cell_type": "code",
   "execution_count": 3,
   "metadata": {
    "collapsed": true
   },
   "outputs": [],
   "source": [
    "if 'sc' not in locals():\n",
    "    from pyspark.context import SparkContext\n",
    "    from pyspark.sql.context import SQLContext\n",
    "    from pyspark.sql.session import SparkSession\n",
    "    \n",
    "    sc = SparkContext()\n",
    "    sqlContext = SQLContext(sc)\n",
    "    spark = SparkSession(sc)"
   ]
  },
  {
   "cell_type": "markdown",
   "metadata": {},
   "source": [
    "### Load Data"
   ]
  },
  {
   "cell_type": "code",
   "execution_count": 51,
   "metadata": {
    "collapsed": true
   },
   "outputs": [],
   "source": [
    "movies = spark.read.load('./data/ml-small/movies.csv',format='csv',header = True)\n",
    "ratings = spark.read.load('./data/ml-small/ratings.csv',format='csv',header = True,inferSchema=True)"
   ]
  },
  {
   "cell_type": "code",
   "execution_count": 5,
   "metadata": {},
   "outputs": [
    {
     "name": "stdout",
     "output_type": "stream",
     "text": [
      "root\n",
      " |-- movieId: string (nullable = true)\n",
      " |-- title: string (nullable = true)\n",
      " |-- genres: string (nullable = true)\n",
      "\n"
     ]
    }
   ],
   "source": [
    "movies.printSchema()"
   ]
  },
  {
   "cell_type": "code",
   "execution_count": 6,
   "metadata": {},
   "outputs": [
    {
     "name": "stdout",
     "output_type": "stream",
     "text": [
      "root\n",
      " |-- userId: integer (nullable = true)\n",
      " |-- movieId: integer (nullable = true)\n",
      " |-- rating: double (nullable = true)\n",
      " |-- timestamp: integer (nullable = true)\n",
      "\n"
     ]
    }
   ],
   "source": [
    "ratings.printSchema()"
   ]
  },
  {
   "cell_type": "code",
   "execution_count": 7,
   "metadata": {},
   "outputs": [
    {
     "name": "stdout",
     "output_type": "stream",
     "text": [
      "+------+-------+------+\n",
      "|userId|movieId|rating|\n",
      "+------+-------+------+\n",
      "|     1|      1|   4.0|\n",
      "|     1|      3|   4.0|\n",
      "|     1|      6|   4.0|\n",
      "|     1|     47|   5.0|\n",
      "|     1|     50|   5.0|\n",
      "+------+-------+------+\n",
      "only showing top 5 rows\n",
      "\n"
     ]
    }
   ],
   "source": [
    "ratings = ratings.select('userId','movieId','rating')\n",
    "ratings.show(5)"
   ]
  },
  {
   "cell_type": "markdown",
   "metadata": {},
   "source": [
    "### Feature Extraction"
   ]
  },
  {
   "cell_type": "code",
   "execution_count": 8,
   "metadata": {},
   "outputs": [
    {
     "name": "stdout",
     "output_type": "stream",
     "text": [
      "root\n",
      " |-- userId: integer (nullable = true)\n",
      " |-- movieId: integer (nullable = true)\n",
      " |-- rating: float (nullable = true)\n",
      "\n"
     ]
    }
   ],
   "source": [
    "ratings = ratings.withColumn('userId',ratings['userId'].cast('int'))\n",
    "ratings = ratings.withColumn('movieId',ratings['movieId'].cast('int'))\n",
    "ratings = ratings.withColumn('rating',ratings['rating'].cast('float'))\n",
    "ratings.printSchema()"
   ]
  },
  {
   "cell_type": "markdown",
   "metadata": {},
   "source": [
    "### Train Model"
   ]
  },
  {
   "cell_type": "code",
   "execution_count": 9,
   "metadata": {
    "collapsed": true
   },
   "outputs": [],
   "source": [
    "from pyspark.ml.evaluation import RegressionEvaluator\n",
    "from pyspark.ml.recommendation import ALS\n",
    "from pyspark.ml.tuning import CrossValidator, ParamGridBuilder\n",
    "\n",
    "(training, test) = ratings.randomSplit([0.8, 0.2])\n",
    "als = ALS(maxIter=5, regParam=0.01, userCol=\"userId\", itemCol=\"movieId\", ratingCol=\"rating\",\n",
    "          coldStartStrategy=\"drop\")\n",
    "model = als.fit(training)"
   ]
  },
  {
   "cell_type": "code",
   "execution_count": 10,
   "metadata": {},
   "outputs": [
    {
     "name": "stdout",
     "output_type": "stream",
     "text": [
      "RMSE: 1.078033413416398\n"
     ]
    }
   ],
   "source": [
    "pred = model.transform(test)\n",
    "evaluator = RegressionEvaluator(metricName='rmse',labelCol='rating',predictionCol='prediction')\n",
    "print('RMSE:',evaluator.evaluate(pred))"
   ]
  },
  {
   "cell_type": "code",
   "execution_count": 15,
   "metadata": {
    "collapsed": true
   },
   "outputs": [],
   "source": [
    "from pyspark.ml.evaluation import RegressionEvaluator\n",
    "from pyspark.ml.recommendation import ALS\n",
    "from pyspark.ml.tuning import CrossValidator, ParamGridBuilder, TrainValidationSplit\n",
    "\n",
    "(train,test) = ratings.randomSplit([0.8,0.2])\n",
    "\n",
    "als2 = ALS(userCol='userId',itemCol='movieId', ratingCol='rating',coldStartStrategy='drop', nonnegative=True)\n",
    "param_grid = ParamGridBuilder()\\\n",
    "            .addGrid(als.rank,[4,8,12])\\\n",
    "            .addGrid(als.regParam,[0.1, 0.15, 0.2])\\\n",
    "            .build()\n",
    "\n",
    "evaluator = RegressionEvaluator(metricName='rmse',labelCol='rating',predictionCol='prediction')\n",
    "\n",
    "tvs = TrainValidationSplit(estimator=als2,estimatorParamMaps=param_grid,evaluator=evaluator)"
   ]
  },
  {
   "cell_type": "code",
   "execution_count": 16,
   "metadata": {
    "collapsed": true
   },
   "outputs": [],
   "source": [
    "model = tvs.fit(train)"
   ]
  },
  {
   "cell_type": "code",
   "execution_count": 17,
   "metadata": {},
   "outputs": [
    {
     "name": "stdout",
     "output_type": "stream",
     "text": [
      "RMSE: 0.8801732351850021\n"
     ]
    }
   ],
   "source": [
    "best_model = model.bestModel\n",
    "pred = best_model.transform(test)\n",
    "print('RMSE:',evaluator.evaluate(pred))"
   ]
  },
  {
   "cell_type": "code",
   "execution_count": 42,
   "metadata": {
    "collapsed": true
   },
   "outputs": [],
   "source": [
    "recs = best_model.recommendForAllUsers(10)"
   ]
  },
  {
   "cell_type": "code",
   "execution_count": 74,
   "metadata": {
    "collapsed": true
   },
   "outputs": [],
   "source": [
    "import pandas as pd\n",
    "\n",
    "def display_recommendation(recs,userId):\n",
    "    user_recs = recs.filter(recs.userId == userId)\n",
    "    user_recs = user_recs.select(\"recommendations.movieId\",'recommendations.rating')\n",
    "    movies_ = user_recs.select(\"movieId\").toPandas().iloc[0,0]\n",
    "    ratings_ = user_recs.select(\"rating\").toPandas().iloc[0,0]\n",
    "    rating_mat = pd.DataFrame(movies_,columns=['movieId'])    \n",
    "    for i in range(0, len(movies_)): \n",
    "        movies_[i] = str(movies_[i])\n",
    "    disp_df = movies.filter(movies.movieId.isin(movies_)).toPandas()\n",
    "    disp_df['ratings'] = ratings_\n",
    "    return disp_df\n",
    "#     rating_mat_ps = sqlContext.createDataFrame(rating_mat)\n",
    "#     return ratings_mat_ps  "
   ]
  },
  {
   "cell_type": "code",
   "execution_count": 77,
   "metadata": {},
   "outputs": [
    {
     "data": {
      "text/html": [
       "<div>\n",
       "<style>\n",
       "    .dataframe thead tr:only-child th {\n",
       "        text-align: right;\n",
       "    }\n",
       "\n",
       "    .dataframe thead th {\n",
       "        text-align: left;\n",
       "    }\n",
       "\n",
       "    .dataframe tbody tr th {\n",
       "        vertical-align: top;\n",
       "    }\n",
       "</style>\n",
       "<table border=\"1\" class=\"dataframe\">\n",
       "  <thead>\n",
       "    <tr style=\"text-align: right;\">\n",
       "      <th></th>\n",
       "      <th>movieId</th>\n",
       "      <th>title</th>\n",
       "      <th>genres</th>\n",
       "      <th>ratings</th>\n",
       "    </tr>\n",
       "  </thead>\n",
       "  <tbody>\n",
       "    <tr>\n",
       "      <th>0</th>\n",
       "      <td>3379</td>\n",
       "      <td>On the Beach (1959)</td>\n",
       "      <td>Drama</td>\n",
       "      <td>4.825528</td>\n",
       "    </tr>\n",
       "    <tr>\n",
       "      <th>1</th>\n",
       "      <td>26528</td>\n",
       "      <td>Anne of Green Gables (1985)</td>\n",
       "      <td>Children|Drama</td>\n",
       "      <td>4.725781</td>\n",
       "    </tr>\n",
       "    <tr>\n",
       "      <th>2</th>\n",
       "      <td>27156</td>\n",
       "      <td>Neon Genesis Evangelion: The End of Evangelion...</td>\n",
       "      <td>Action|Animation|Drama|Fantasy|Sci-Fi</td>\n",
       "      <td>4.601559</td>\n",
       "    </tr>\n",
       "    <tr>\n",
       "      <th>3</th>\n",
       "      <td>27611</td>\n",
       "      <td>Battlestar Galactica (2003)</td>\n",
       "      <td>Drama|Sci-Fi|War</td>\n",
       "      <td>4.541858</td>\n",
       "    </tr>\n",
       "    <tr>\n",
       "      <th>4</th>\n",
       "      <td>33649</td>\n",
       "      <td>Saving Face (2004)</td>\n",
       "      <td>Comedy|Drama|Romance</td>\n",
       "      <td>4.505105</td>\n",
       "    </tr>\n",
       "    <tr>\n",
       "      <th>5</th>\n",
       "      <td>69524</td>\n",
       "      <td>Raiders of the Lost Ark: The Adaptation (1989)</td>\n",
       "      <td>Action|Adventure|Thriller</td>\n",
       "      <td>4.498843</td>\n",
       "    </tr>\n",
       "    <tr>\n",
       "      <th>6</th>\n",
       "      <td>74282</td>\n",
       "      <td>Anne of Green Gables: The Sequel (a.k.a. Anne ...</td>\n",
       "      <td>Children|Drama|Romance</td>\n",
       "      <td>4.473551</td>\n",
       "    </tr>\n",
       "    <tr>\n",
       "      <th>7</th>\n",
       "      <td>93988</td>\n",
       "      <td>North &amp; South (2004)</td>\n",
       "      <td>Drama|Romance</td>\n",
       "      <td>4.433724</td>\n",
       "    </tr>\n",
       "    <tr>\n",
       "      <th>8</th>\n",
       "      <td>171495</td>\n",
       "      <td>Cosmos</td>\n",
       "      <td>(no genres listed)</td>\n",
       "      <td>4.429231</td>\n",
       "    </tr>\n",
       "    <tr>\n",
       "      <th>9</th>\n",
       "      <td>183897</td>\n",
       "      <td>Isle of Dogs (2018)</td>\n",
       "      <td>Animation|Comedy</td>\n",
       "      <td>4.427635</td>\n",
       "    </tr>\n",
       "  </tbody>\n",
       "</table>\n",
       "</div>"
      ],
      "text/plain": [
       "  movieId                                              title  \\\n",
       "0    3379                                On the Beach (1959)   \n",
       "1   26528                        Anne of Green Gables (1985)   \n",
       "2   27156  Neon Genesis Evangelion: The End of Evangelion...   \n",
       "3   27611                        Battlestar Galactica (2003)   \n",
       "4   33649                                 Saving Face (2004)   \n",
       "5   69524     Raiders of the Lost Ark: The Adaptation (1989)   \n",
       "6   74282  Anne of Green Gables: The Sequel (a.k.a. Anne ...   \n",
       "7   93988                               North & South (2004)   \n",
       "8  171495                                             Cosmos   \n",
       "9  183897                                Isle of Dogs (2018)   \n",
       "\n",
       "                                  genres   ratings  \n",
       "0                                  Drama  4.825528  \n",
       "1                         Children|Drama  4.725781  \n",
       "2  Action|Animation|Drama|Fantasy|Sci-Fi  4.601559  \n",
       "3                       Drama|Sci-Fi|War  4.541858  \n",
       "4                   Comedy|Drama|Romance  4.505105  \n",
       "5              Action|Adventure|Thriller  4.498843  \n",
       "6                 Children|Drama|Romance  4.473551  \n",
       "7                          Drama|Romance  4.433724  \n",
       "8                     (no genres listed)  4.429231  \n",
       "9                       Animation|Comedy  4.427635  "
      ]
     },
     "execution_count": 77,
     "metadata": {},
     "output_type": "execute_result"
    }
   ],
   "source": [
    "display_recommendation(recs,165).head(10)"
   ]
  },
  {
   "cell_type": "code",
   "execution_count": null,
   "metadata": {
    "collapsed": true
   },
   "outputs": [],
   "source": []
  }
 ],
 "metadata": {
  "kernelspec": {
   "display_name": "Python 3",
   "language": "python",
   "name": "python3"
  },
  "language_info": {
   "codemirror_mode": {
    "name": "ipython",
    "version": 3
   },
   "file_extension": ".py",
   "mimetype": "text/x-python",
   "name": "python",
   "nbconvert_exporter": "python",
   "pygments_lexer": "ipython3",
   "version": "3.6.2"
  }
 },
 "nbformat": 4,
 "nbformat_minor": 2
}
