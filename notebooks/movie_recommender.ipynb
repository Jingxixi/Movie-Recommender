{
 "cells": [
  {
   "cell_type": "markdown",
   "metadata": {},
   "source": [
    "## Movie Recommender System\n",
    "This notebook consists of data preprocess, data analysis and the recommender engine implemented using simple baseline, content-based and collaborative filtering method. \n",
    "\n",
    "Datasets: [MovieLens 20M Dataset](https://grouplens.org/datasets/movielens/20m/)"
   ]
  },
  {
   "cell_type": "markdown",
   "metadata": {},
   "source": [
    "### Data Proprocess"
   ]
  },
  {
   "cell_type": "code",
   "execution_count": 56,
   "metadata": {},
   "outputs": [],
   "source": [
    "import pandas as pd\n",
    "import numpy as np\n",
    "import matplotlib.pyplot as plt\n",
    "%matplotlib inline"
   ]
  },
  {
   "cell_type": "markdown",
   "metadata": {},
   "source": [
    "#### Load Datasets\n",
    "Load CSV files into corresponding dataframes."
   ]
  },
  {
   "cell_type": "code",
   "execution_count": 57,
   "metadata": {},
   "outputs": [],
   "source": [
    "movies = pd.read_csv('./data/ml-small/movies.csv')\n",
    "ratings = pd.read_csv('./data/ml-small/ratings.csv')\n",
    "tags = pd.read_csv('./data/ml-small/tags.csv')"
   ]
  },
  {
   "cell_type": "code",
   "execution_count": 58,
   "metadata": {},
   "outputs": [
    {
     "data": {
      "text/html": [
       "<div>\n",
       "<table border=\"1\" class=\"dataframe\">\n",
       "  <thead>\n",
       "    <tr style=\"text-align: right;\">\n",
       "      <th></th>\n",
       "      <th>movieId</th>\n",
       "      <th>title</th>\n",
       "      <th>genres</th>\n",
       "    </tr>\n",
       "  </thead>\n",
       "  <tbody>\n",
       "    <tr>\n",
       "      <th>0</th>\n",
       "      <td>1</td>\n",
       "      <td>Toy Story (1995)</td>\n",
       "      <td>Adventure|Animation|Children|Comedy|Fantasy</td>\n",
       "    </tr>\n",
       "    <tr>\n",
       "      <th>1</th>\n",
       "      <td>2</td>\n",
       "      <td>Jumanji (1995)</td>\n",
       "      <td>Adventure|Children|Fantasy</td>\n",
       "    </tr>\n",
       "    <tr>\n",
       "      <th>2</th>\n",
       "      <td>3</td>\n",
       "      <td>Grumpier Old Men (1995)</td>\n",
       "      <td>Comedy|Romance</td>\n",
       "    </tr>\n",
       "    <tr>\n",
       "      <th>3</th>\n",
       "      <td>4</td>\n",
       "      <td>Waiting to Exhale (1995)</td>\n",
       "      <td>Comedy|Drama|Romance</td>\n",
       "    </tr>\n",
       "    <tr>\n",
       "      <th>4</th>\n",
       "      <td>5</td>\n",
       "      <td>Father of the Bride Part II (1995)</td>\n",
       "      <td>Comedy</td>\n",
       "    </tr>\n",
       "  </tbody>\n",
       "</table>\n",
       "</div>"
      ],
      "text/plain": [
       "   movieId                               title  \\\n",
       "0        1                    Toy Story (1995)   \n",
       "1        2                      Jumanji (1995)   \n",
       "2        3             Grumpier Old Men (1995)   \n",
       "3        4            Waiting to Exhale (1995)   \n",
       "4        5  Father of the Bride Part II (1995)   \n",
       "\n",
       "                                        genres  \n",
       "0  Adventure|Animation|Children|Comedy|Fantasy  \n",
       "1                   Adventure|Children|Fantasy  \n",
       "2                               Comedy|Romance  \n",
       "3                         Comedy|Drama|Romance  \n",
       "4                                       Comedy  "
      ]
     },
     "execution_count": 58,
     "metadata": {},
     "output_type": "execute_result"
    }
   ],
   "source": [
    "#Preview Data\n",
    "movies.head()"
   ]
  },
  {
   "cell_type": "code",
   "execution_count": 59,
   "metadata": {},
   "outputs": [
    {
     "name": "stdout",
     "output_type": "stream",
     "text": [
      "<class 'pandas.core.frame.DataFrame'>\n",
      "RangeIndex: 9742 entries, 0 to 9741\n",
      "Data columns (total 3 columns):\n",
      "movieId    9742 non-null int64\n",
      "title      9742 non-null object\n",
      "genres     9742 non-null object\n",
      "dtypes: int64(1), object(2)\n",
      "memory usage: 228.4+ KB\n"
     ]
    }
   ],
   "source": [
    "movies.info()"
   ]
  },
  {
   "cell_type": "code",
   "execution_count": 60,
   "metadata": {},
   "outputs": [
    {
     "data": {
      "text/html": [
       "<div>\n",
       "<table border=\"1\" class=\"dataframe\">\n",
       "  <thead>\n",
       "    <tr style=\"text-align: right;\">\n",
       "      <th></th>\n",
       "      <th>userId</th>\n",
       "      <th>movieId</th>\n",
       "      <th>tag</th>\n",
       "      <th>timestamp</th>\n",
       "    </tr>\n",
       "  </thead>\n",
       "  <tbody>\n",
       "    <tr>\n",
       "      <th>0</th>\n",
       "      <td>2</td>\n",
       "      <td>60756</td>\n",
       "      <td>funny</td>\n",
       "      <td>1445714994</td>\n",
       "    </tr>\n",
       "    <tr>\n",
       "      <th>1</th>\n",
       "      <td>2</td>\n",
       "      <td>60756</td>\n",
       "      <td>Highly quotable</td>\n",
       "      <td>1445714996</td>\n",
       "    </tr>\n",
       "    <tr>\n",
       "      <th>2</th>\n",
       "      <td>2</td>\n",
       "      <td>60756</td>\n",
       "      <td>will ferrell</td>\n",
       "      <td>1445714992</td>\n",
       "    </tr>\n",
       "    <tr>\n",
       "      <th>3</th>\n",
       "      <td>2</td>\n",
       "      <td>89774</td>\n",
       "      <td>Boxing story</td>\n",
       "      <td>1445715207</td>\n",
       "    </tr>\n",
       "    <tr>\n",
       "      <th>4</th>\n",
       "      <td>2</td>\n",
       "      <td>89774</td>\n",
       "      <td>MMA</td>\n",
       "      <td>1445715200</td>\n",
       "    </tr>\n",
       "  </tbody>\n",
       "</table>\n",
       "</div>"
      ],
      "text/plain": [
       "   userId  movieId              tag   timestamp\n",
       "0       2    60756            funny  1445714994\n",
       "1       2    60756  Highly quotable  1445714996\n",
       "2       2    60756     will ferrell  1445714992\n",
       "3       2    89774     Boxing story  1445715207\n",
       "4       2    89774              MMA  1445715200"
      ]
     },
     "execution_count": 60,
     "metadata": {},
     "output_type": "execute_result"
    }
   ],
   "source": [
    "tags.head()"
   ]
  },
  {
   "cell_type": "code",
   "execution_count": 61,
   "metadata": {},
   "outputs": [
    {
     "name": "stdout",
     "output_type": "stream",
     "text": [
      "<class 'pandas.core.frame.DataFrame'>\n",
      "RangeIndex: 3683 entries, 0 to 3682\n",
      "Data columns (total 4 columns):\n",
      "userId       3683 non-null int64\n",
      "movieId      3683 non-null int64\n",
      "tag          3683 non-null object\n",
      "timestamp    3683 non-null int64\n",
      "dtypes: int64(3), object(1)\n",
      "memory usage: 115.2+ KB\n"
     ]
    }
   ],
   "source": [
    "tags.info()"
   ]
  },
  {
   "cell_type": "code",
   "execution_count": 62,
   "metadata": {},
   "outputs": [
    {
     "data": {
      "text/html": [
       "<div>\n",
       "<table border=\"1\" class=\"dataframe\">\n",
       "  <thead>\n",
       "    <tr style=\"text-align: right;\">\n",
       "      <th></th>\n",
       "      <th>userId</th>\n",
       "      <th>movieId</th>\n",
       "      <th>rating</th>\n",
       "      <th>timestamp</th>\n",
       "    </tr>\n",
       "  </thead>\n",
       "  <tbody>\n",
       "    <tr>\n",
       "      <th>0</th>\n",
       "      <td>1</td>\n",
       "      <td>1</td>\n",
       "      <td>4.0</td>\n",
       "      <td>964982703</td>\n",
       "    </tr>\n",
       "    <tr>\n",
       "      <th>1</th>\n",
       "      <td>1</td>\n",
       "      <td>3</td>\n",
       "      <td>4.0</td>\n",
       "      <td>964981247</td>\n",
       "    </tr>\n",
       "    <tr>\n",
       "      <th>2</th>\n",
       "      <td>1</td>\n",
       "      <td>6</td>\n",
       "      <td>4.0</td>\n",
       "      <td>964982224</td>\n",
       "    </tr>\n",
       "    <tr>\n",
       "      <th>3</th>\n",
       "      <td>1</td>\n",
       "      <td>47</td>\n",
       "      <td>5.0</td>\n",
       "      <td>964983815</td>\n",
       "    </tr>\n",
       "    <tr>\n",
       "      <th>4</th>\n",
       "      <td>1</td>\n",
       "      <td>50</td>\n",
       "      <td>5.0</td>\n",
       "      <td>964982931</td>\n",
       "    </tr>\n",
       "  </tbody>\n",
       "</table>\n",
       "</div>"
      ],
      "text/plain": [
       "   userId  movieId  rating  timestamp\n",
       "0       1        1     4.0  964982703\n",
       "1       1        3     4.0  964981247\n",
       "2       1        6     4.0  964982224\n",
       "3       1       47     5.0  964983815\n",
       "4       1       50     5.0  964982931"
      ]
     },
     "execution_count": 62,
     "metadata": {},
     "output_type": "execute_result"
    }
   ],
   "source": [
    "ratings.head()"
   ]
  },
  {
   "cell_type": "code",
   "execution_count": 63,
   "metadata": {},
   "outputs": [
    {
     "name": "stdout",
     "output_type": "stream",
     "text": [
      "<class 'pandas.core.frame.DataFrame'>\n",
      "RangeIndex: 100836 entries, 0 to 100835\n",
      "Data columns (total 4 columns):\n",
      "userId       100836 non-null int64\n",
      "movieId      100836 non-null int64\n",
      "rating       100836 non-null float64\n",
      "timestamp    100836 non-null int64\n",
      "dtypes: float64(1), int64(3)\n",
      "memory usage: 3.1 MB\n"
     ]
    }
   ],
   "source": [
    "ratings.info()"
   ]
  },
  {
   "cell_type": "code",
   "execution_count": 64,
   "metadata": {},
   "outputs": [
    {
     "data": {
      "text/plain": [
       "610"
      ]
     },
     "execution_count": 64,
     "metadata": {},
     "output_type": "execute_result"
    }
   ],
   "source": [
    "#Number of Users\n",
    "len(ratings.userId.unique())"
   ]
  },
  {
   "cell_type": "code",
   "execution_count": 65,
   "metadata": {},
   "outputs": [
    {
     "name": "stdout",
     "output_type": "stream",
     "text": [
      "Number of missing values in ratings: 0\n",
      "Number of missing values in tags: 0\n",
      "Number of missing values in movies: 0\n"
     ]
    }
   ],
   "source": [
    "#Check Missing values\n",
    "print('Number of missing values in ratings:',ratings.isnull().sum().sum())\n",
    "print('Number of missing values in tags:',tags.isnull().sum().sum())\n",
    "print('Number of missing values in movies:',movies.isnull().sum().sum())"
   ]
  },
  {
   "cell_type": "code",
   "execution_count": 66,
   "metadata": {},
   "outputs": [
    {
     "name": "stdout",
     "output_type": "stream",
     "text": [
      "Number of duplicate values in ratings: 0\n",
      "Number of duplicate values in tags: 0\n",
      "Number of duplicate values in movies: 0\n",
      "Number of duplicate values in ratings: 0\n",
      "Number of duplicate values in tags: 0\n",
      "Number of duplicate values in movies: 0\n"
     ]
    }
   ],
   "source": [
    "#Check Duplicate Values\n",
    "print('Number of duplicate values in ratings:',len(ratings[ratings.duplicated(['movieId','userId'])].index))\n",
    "print('Number of duplicate values in tags:',len(tags[tags.duplicated(['movieId','userId','tag'])].index))\n",
    "print('Number of duplicate values in movies:',len(movies[movies.duplicated(['movieId'])].index))#Check Duplicate Values\n",
    "print('Number of duplicate values in ratings:',len(ratings[ratings.duplicated(['movieId','userId'])].index))\n",
    "print('Number of duplicate values in tags:',len(tags[tags.duplicated(['movieId','userId','tag'])].index))\n",
    "print('Number of duplicate values in movies:',len(movies[movies.duplicated(['movieId'])].index))"
   ]
  },
  {
   "cell_type": "code",
   "execution_count": 67,
   "metadata": {},
   "outputs": [],
   "source": [
    "#Based on my research on algorithms, timestamp is irrelevent and would be remove from the dataset.\n",
    "tags = tags.drop(['timestamp'],axis=1)\n",
    "ratings = ratings.drop(['timestamp'],axis=1)"
   ]
  },
  {
   "cell_type": "code",
   "execution_count": 68,
   "metadata": {},
   "outputs": [
    {
     "name": "stdout",
     "output_type": "stream",
     "text": [
      "{'IMAX', 'Documentary', 'Adventure', '(no genres listed)', 'Romance', 'Drama', 'Sci-Fi', 'Film-Noir', 'Thriller', 'War', 'Horror', 'Crime', 'Mystery', 'Comedy', 'Action', 'Western', 'Musical', 'Animation', 'Children', 'Fantasy'}\n"
     ]
    }
   ],
   "source": [
    "#Split the genres\n",
    "genre_set = set()\n",
    "for idx,row in movies.iterrows():\n",
    "    l = row.genres.split('|')\n",
    "    genre_set.update(l)\n",
    "print(genre_set)"
   ]
  },
  {
   "cell_type": "code",
   "execution_count": 69,
   "metadata": {},
   "outputs": [],
   "source": [
    "# remove '(no genres listed)' from the set\n",
    "genre_set.remove('(no genres listed)')"
   ]
  },
  {
   "cell_type": "code",
   "execution_count": 70,
   "metadata": {},
   "outputs": [],
   "source": [
    "def movie_genre_onehot(movie_df):\n",
    "    for genre_name in genre_set:\n",
    "        movie_df[genre_name] = movie_df.apply(lambda _:int(genre_name in _.genres), axis = 1 )\n",
    "    movie_df = movie_df.drop('genres',axis =1)\n",
    "    return movie_df"
   ]
  },
  {
   "cell_type": "code",
   "execution_count": 38,
   "metadata": {},
   "outputs": [],
   "source": [
    "def weighted_rating(movie):\n",
    "    v = movie.num_ratings\n",
    "    R = movie.avg_rating\n",
    "    m = 100 #minimum_votes required to be listed in Top50\n",
    "    weighted_rating = (v/(v+m))*R+(m/(v+m))*C\n",
    "    return weighted_rating"
   ]
  },
  {
   "cell_type": "code",
   "execution_count": 72,
   "metadata": {},
   "outputs": [],
   "source": [
    "def calculate_avgs(movie_df):\n",
    "    movie_df = movie_df.set_index('movieId')\n",
    "    movie_df['num_ratings'] = ratings.groupby('movieId').size()\n",
    "    mean_ratings = ratings.groupby('movieId')['rating'].mean()\n",
    "    movie_df['avg_rating'] = mean_ratings    \n",
    "    # the mean vote across the whole report\n",
    "    C = ratings.rating.mean()\n",
    "    movie_df = movie_df.reset_index()\n",
    "    movie_df['weighted_avg'] = movie_df.apply(weighted_rating,axis = 1)\n",
    "    return movie_df"
   ]
  },
  {
   "cell_type": "code",
   "execution_count": 73,
   "metadata": {},
   "outputs": [],
   "source": [
    "def extract_year(movie_df):\n",
    "    movie_df['year'] = movie_df.title.str.extract(pat=r'(\\(\\d\\d\\d\\d\\))',expand=True)\n",
    "    movie_df['year'] = movie_df.year.str[1:-1]\n",
    "    return movie_df"
   ]
  },
  {
   "cell_type": "code",
   "execution_count": 77,
   "metadata": {},
   "outputs": [
    {
     "data": {
      "text/html": [
       "<div>\n",
       "<table border=\"1\" class=\"dataframe\">\n",
       "  <thead>\n",
       "    <tr style=\"text-align: right;\">\n",
       "      <th></th>\n",
       "      <th>movieId</th>\n",
       "      <th>title</th>\n",
       "      <th>year</th>\n",
       "      <th>num_ratings</th>\n",
       "      <th>avg_rating</th>\n",
       "      <th>weighted_avg</th>\n",
       "      <th>IMAX</th>\n",
       "      <th>Documentary</th>\n",
       "      <th>Adventure</th>\n",
       "      <th>Romance</th>\n",
       "      <th>...</th>\n",
       "      <th>Horror</th>\n",
       "      <th>Crime</th>\n",
       "      <th>Mystery</th>\n",
       "      <th>Comedy</th>\n",
       "      <th>Action</th>\n",
       "      <th>Western</th>\n",
       "      <th>Musical</th>\n",
       "      <th>Animation</th>\n",
       "      <th>Children</th>\n",
       "      <th>Fantasy</th>\n",
       "    </tr>\n",
       "  </thead>\n",
       "  <tbody>\n",
       "    <tr>\n",
       "      <th>0</th>\n",
       "      <td>1</td>\n",
       "      <td>Toy Story (1995)</td>\n",
       "      <td>1995</td>\n",
       "      <td>215.0</td>\n",
       "      <td>3.920930</td>\n",
       "      <td>3.787796</td>\n",
       "      <td>0</td>\n",
       "      <td>0</td>\n",
       "      <td>1</td>\n",
       "      <td>0</td>\n",
       "      <td>...</td>\n",
       "      <td>0</td>\n",
       "      <td>0</td>\n",
       "      <td>0</td>\n",
       "      <td>1</td>\n",
       "      <td>0</td>\n",
       "      <td>0</td>\n",
       "      <td>0</td>\n",
       "      <td>1</td>\n",
       "      <td>1</td>\n",
       "      <td>1</td>\n",
       "    </tr>\n",
       "    <tr>\n",
       "      <th>1</th>\n",
       "      <td>2</td>\n",
       "      <td>Jumanji (1995)</td>\n",
       "      <td>1995</td>\n",
       "      <td>110.0</td>\n",
       "      <td>3.431818</td>\n",
       "      <td>3.465027</td>\n",
       "      <td>0</td>\n",
       "      <td>0</td>\n",
       "      <td>1</td>\n",
       "      <td>0</td>\n",
       "      <td>...</td>\n",
       "      <td>0</td>\n",
       "      <td>0</td>\n",
       "      <td>0</td>\n",
       "      <td>0</td>\n",
       "      <td>0</td>\n",
       "      <td>0</td>\n",
       "      <td>0</td>\n",
       "      <td>0</td>\n",
       "      <td>1</td>\n",
       "      <td>1</td>\n",
       "    </tr>\n",
       "    <tr>\n",
       "      <th>2</th>\n",
       "      <td>3</td>\n",
       "      <td>Grumpier Old Men (1995)</td>\n",
       "      <td>1995</td>\n",
       "      <td>52.0</td>\n",
       "      <td>3.259615</td>\n",
       "      <td>3.418787</td>\n",
       "      <td>0</td>\n",
       "      <td>0</td>\n",
       "      <td>0</td>\n",
       "      <td>1</td>\n",
       "      <td>...</td>\n",
       "      <td>0</td>\n",
       "      <td>0</td>\n",
       "      <td>0</td>\n",
       "      <td>1</td>\n",
       "      <td>0</td>\n",
       "      <td>0</td>\n",
       "      <td>0</td>\n",
       "      <td>0</td>\n",
       "      <td>0</td>\n",
       "      <td>0</td>\n",
       "    </tr>\n",
       "    <tr>\n",
       "      <th>3</th>\n",
       "      <td>4</td>\n",
       "      <td>Waiting to Exhale (1995)</td>\n",
       "      <td>1995</td>\n",
       "      <td>7.0</td>\n",
       "      <td>2.357143</td>\n",
       "      <td>3.426689</td>\n",
       "      <td>0</td>\n",
       "      <td>0</td>\n",
       "      <td>0</td>\n",
       "      <td>1</td>\n",
       "      <td>...</td>\n",
       "      <td>0</td>\n",
       "      <td>0</td>\n",
       "      <td>0</td>\n",
       "      <td>1</td>\n",
       "      <td>0</td>\n",
       "      <td>0</td>\n",
       "      <td>0</td>\n",
       "      <td>0</td>\n",
       "      <td>0</td>\n",
       "      <td>0</td>\n",
       "    </tr>\n",
       "    <tr>\n",
       "      <th>4</th>\n",
       "      <td>5</td>\n",
       "      <td>Father of the Bride Part II (1995)</td>\n",
       "      <td>1995</td>\n",
       "      <td>49.0</td>\n",
       "      <td>3.071429</td>\n",
       "      <td>3.360105</td>\n",
       "      <td>0</td>\n",
       "      <td>0</td>\n",
       "      <td>0</td>\n",
       "      <td>0</td>\n",
       "      <td>...</td>\n",
       "      <td>0</td>\n",
       "      <td>0</td>\n",
       "      <td>0</td>\n",
       "      <td>1</td>\n",
       "      <td>0</td>\n",
       "      <td>0</td>\n",
       "      <td>0</td>\n",
       "      <td>0</td>\n",
       "      <td>0</td>\n",
       "      <td>0</td>\n",
       "    </tr>\n",
       "  </tbody>\n",
       "</table>\n",
       "<p>5 rows × 25 columns</p>\n",
       "</div>"
      ],
      "text/plain": [
       "   movieId                               title  year  num_ratings  avg_rating  \\\n",
       "0        1                    Toy Story (1995)  1995        215.0    3.920930   \n",
       "1        2                      Jumanji (1995)  1995        110.0    3.431818   \n",
       "2        3             Grumpier Old Men (1995)  1995         52.0    3.259615   \n",
       "3        4            Waiting to Exhale (1995)  1995          7.0    2.357143   \n",
       "4        5  Father of the Bride Part II (1995)  1995         49.0    3.071429   \n",
       "\n",
       "   weighted_avg  IMAX  Documentary  Adventure  Romance   ...     Horror  \\\n",
       "0      3.787796     0            0          1        0   ...          0   \n",
       "1      3.465027     0            0          1        0   ...          0   \n",
       "2      3.418787     0            0          0        1   ...          0   \n",
       "3      3.426689     0            0          0        1   ...          0   \n",
       "4      3.360105     0            0          0        0   ...          0   \n",
       "\n",
       "   Crime  Mystery  Comedy  Action  Western  Musical  Animation  Children  \\\n",
       "0      0        0       1       0        0        0          1         1   \n",
       "1      0        0       0       0        0        0          0         1   \n",
       "2      0        0       1       0        0        0          0         0   \n",
       "3      0        0       1       0        0        0          0         0   \n",
       "4      0        0       1       0        0        0          0         0   \n",
       "\n",
       "   Fantasy  \n",
       "0        1  \n",
       "1        1  \n",
       "2        0  \n",
       "3        0  \n",
       "4        0  \n",
       "\n",
       "[5 rows x 25 columns]"
      ]
     },
     "execution_count": 77,
     "metadata": {},
     "output_type": "execute_result"
    }
   ],
   "source": [
    "movies_feature = movies.copy()\n",
    "movies_feature = extract_year(movies_feature)\n",
    "movies_feature = calculate_avgs(movies_feature)\n",
    "movies_feature = movie_genre_onehot(movies_feature)\n",
    "movies_feature.head()"
   ]
  },
  {
   "cell_type": "markdown",
   "metadata": {},
   "source": [
    "### Data Analysis"
   ]
  },
  {
   "cell_type": "code",
   "execution_count": 79,
   "metadata": {},
   "outputs": [
    {
     "data": {
      "text/plain": [
       "<matplotlib.axes._subplots.AxesSubplot at 0x7f69f36466a0>"
      ]
     },
     "execution_count": 79,
     "metadata": {},
     "output_type": "execute_result"
    },
    {
     "data": {
      "image/png": "[encoded data removed]",
      "text/plain": [
       "<Figure size 432x288 with 1 Axes>"
      ]
     },
     "metadata": {
      "needs_background": "light"
     },
     "output_type": "display_data"
    }
   ],
   "source": [
    "movies_feature.groupby('year').size().plot(title='Movies made per year')"
   ]
  },
  {
   "cell_type": "code",
   "execution_count": 82,
   "metadata": {},
   "outputs": [
    {
     "data": {
      "text/plain": [
       "314                           Forrest Gump (1994)\n",
       "277              Shawshank Redemption, The (1994)\n",
       "257                           Pulp Fiction (1994)\n",
       "510              Silence of the Lambs, The (1991)\n",
       "1939                           Matrix, The (1999)\n",
       "224     Star Wars: Episode IV - A New Hope (1977)\n",
       "418                          Jurassic Park (1993)\n",
       "97                              Braveheart (1995)\n",
       "507             Terminator 2: Judgment Day (1991)\n",
       "461                       Schindler's List (1993)\n",
       "Name: title, dtype: object"
      ]
     },
     "execution_count": 82,
     "metadata": {},
     "output_type": "execute_result"
    }
   ],
   "source": [
    "#Top ten rated movies\n",
    "movies_feature.sort_values(by=['num_ratings'],ascending=False).title.head(10)"
   ]
  },
  {
   "cell_type": "code",
   "execution_count": 83,
   "metadata": {},
   "outputs": [
    {
     "name": "stdout",
     "output_type": "stream",
     "text": [
      "Total number of unique tags: 1589\n"
     ]
    }
   ],
   "source": [
    "#tag analysis\n",
    "print('Total number of unique tags:', len(tags.tag.unique()))"
   ]
  },
  {
   "cell_type": "code",
   "execution_count": 84,
   "metadata": {},
   "outputs": [
    {
     "data": {
      "text/html": [
       "<div>\n",
       "<table border=\"1\" class=\"dataframe\">\n",
       "  <thead>\n",
       "    <tr style=\"text-align: right;\">\n",
       "      <th></th>\n",
       "      <th>frequency</th>\n",
       "    </tr>\n",
       "    <tr>\n",
       "      <th>tag</th>\n",
       "      <th></th>\n",
       "    </tr>\n",
       "  </thead>\n",
       "  <tbody>\n",
       "    <tr>\n",
       "      <th>In Netflix queue</th>\n",
       "      <td>131</td>\n",
       "    </tr>\n",
       "    <tr>\n",
       "      <th>atmospheric</th>\n",
       "      <td>36</td>\n",
       "    </tr>\n",
       "    <tr>\n",
       "      <th>thought-provoking</th>\n",
       "      <td>24</td>\n",
       "    </tr>\n",
       "    <tr>\n",
       "      <th>superhero</th>\n",
       "      <td>24</td>\n",
       "    </tr>\n",
       "    <tr>\n",
       "      <th>Disney</th>\n",
       "      <td>23</td>\n",
       "    </tr>\n",
       "    <tr>\n",
       "      <th>surreal</th>\n",
       "      <td>23</td>\n",
       "    </tr>\n",
       "    <tr>\n",
       "      <th>funny</th>\n",
       "      <td>23</td>\n",
       "    </tr>\n",
       "    <tr>\n",
       "      <th>religion</th>\n",
       "      <td>22</td>\n",
       "    </tr>\n",
       "    <tr>\n",
       "      <th>dark comedy</th>\n",
       "      <td>21</td>\n",
       "    </tr>\n",
       "    <tr>\n",
       "      <th>sci-fi</th>\n",
       "      <td>21</td>\n",
       "    </tr>\n",
       "  </tbody>\n",
       "</table>\n",
       "</div>"
      ],
      "text/plain": [
       "                   frequency\n",
       "tag                         \n",
       "In Netflix queue         131\n",
       "atmospheric               36\n",
       "thought-provoking         24\n",
       "superhero                 24\n",
       "Disney                    23\n",
       "surreal                   23\n",
       "funny                     23\n",
       "religion                  22\n",
       "dark comedy               21\n",
       "sci-fi                    21"
      ]
     },
     "execution_count": 84,
     "metadata": {},
     "output_type": "execute_result"
    }
   ],
   "source": [
    "#Top 10 Tags\n",
    "tags.groupby('tag').size().to_frame(name='frequency').sort_values(by=['frequency'],ascending=False).head(10)"
   ]
  },
  {
   "cell_type": "code",
   "execution_count": 127,
   "metadata": {},
   "outputs": [
    {
     "data": {
      "text/plain": [
       "277     Shawshank Redemption, The (1994)\n",
       "2226                   Fight Club (1999)\n",
       "257                  Pulp Fiction (1994)\n",
       "659                Godfather, The (1972)\n",
       "314                  Forrest Gump (1994)\n",
       "461              Schindler's List (1993)\n",
       "6710             Dark Knight, The (2008)\n",
       "922       Godfather: Part II, The (1974)\n",
       "1503          Saving Private Ryan (1998)\n",
       "914                    Goodfellas (1990)\n",
       "Name: title, dtype: object"
      ]
     },
     "execution_count": 127,
     "metadata": {},
     "output_type": "execute_result"
    }
   ],
   "source": [
    "movies_feature[movies_feature['Drama']==1].sort_values(['weighted_avg'],ascending=False).title.head(10)"
   ]
  },
  {
   "cell_type": "markdown",
   "metadata": {},
   "source": [
    "### Baseline Method"
   ]
  },
  {
   "cell_type": "code",
   "execution_count": 26,
   "metadata": {},
   "outputs": [],
   "source": [
    "#Data Partitioning\n",
    "from sklearn.model_selection import KFold\n",
    "kf = KFold(n_splits = 10, shuffle = True, random_state=1234)\n",
    "for train_idx,test_idx in kf.split(ratings):\n",
    "    train = ratings.iloc[train_idx]\n",
    "    test = ratings.iloc[test_idx]"
   ]
  },
  {
   "cell_type": "code",
   "execution_count": 45,
   "metadata": {},
   "outputs": [],
   "source": [
    "#Split year from title and stats into datafram\n",
    "movies_new = movies.copy()\n",
    "movies_new = calculate_avgs(movies_new) "
   ]
  },
  {
   "cell_type": "code",
   "execution_count": 46,
   "metadata": {},
   "outputs": [
    {
     "data": {
      "text/html": [
       "<div>\n",
       "<table border=\"1\" class=\"dataframe\">\n",
       "  <thead>\n",
       "    <tr style=\"text-align: right;\">\n",
       "      <th></th>\n",
       "      <th>movieId</th>\n",
       "      <th>title</th>\n",
       "      <th>genres</th>\n",
       "      <th>num_ratings</th>\n",
       "      <th>avg_rating</th>\n",
       "      <th>weighted_avg</th>\n",
       "    </tr>\n",
       "  </thead>\n",
       "  <tbody>\n",
       "    <tr>\n",
       "      <th>0</th>\n",
       "      <td>1</td>\n",
       "      <td>Toy Story (1995)</td>\n",
       "      <td>Adventure|Animation|Children|Comedy|Fantasy</td>\n",
       "      <td>215.0</td>\n",
       "      <td>3.920930</td>\n",
       "      <td>3.787796</td>\n",
       "    </tr>\n",
       "    <tr>\n",
       "      <th>1</th>\n",
       "      <td>2</td>\n",
       "      <td>Jumanji (1995)</td>\n",
       "      <td>Adventure|Children|Fantasy</td>\n",
       "      <td>110.0</td>\n",
       "      <td>3.431818</td>\n",
       "      <td>3.465027</td>\n",
       "    </tr>\n",
       "    <tr>\n",
       "      <th>2</th>\n",
       "      <td>3</td>\n",
       "      <td>Grumpier Old Men (1995)</td>\n",
       "      <td>Comedy|Romance</td>\n",
       "      <td>52.0</td>\n",
       "      <td>3.259615</td>\n",
       "      <td>3.418787</td>\n",
       "    </tr>\n",
       "    <tr>\n",
       "      <th>3</th>\n",
       "      <td>4</td>\n",
       "      <td>Waiting to Exhale (1995)</td>\n",
       "      <td>Comedy|Drama|Romance</td>\n",
       "      <td>7.0</td>\n",
       "      <td>2.357143</td>\n",
       "      <td>3.426689</td>\n",
       "    </tr>\n",
       "    <tr>\n",
       "      <th>4</th>\n",
       "      <td>5</td>\n",
       "      <td>Father of the Bride Part II (1995)</td>\n",
       "      <td>Comedy</td>\n",
       "      <td>49.0</td>\n",
       "      <td>3.071429</td>\n",
       "      <td>3.360105</td>\n",
       "    </tr>\n",
       "  </tbody>\n",
       "</table>\n",
       "</div>"
      ],
      "text/plain": [
       "   movieId                               title  \\\n",
       "0        1                    Toy Story (1995)   \n",
       "1        2                      Jumanji (1995)   \n",
       "2        3             Grumpier Old Men (1995)   \n",
       "3        4            Waiting to Exhale (1995)   \n",
       "4        5  Father of the Bride Part II (1995)   \n",
       "\n",
       "                                        genres  num_ratings  avg_rating  \\\n",
       "0  Adventure|Animation|Children|Comedy|Fantasy        215.0    3.920930   \n",
       "1                   Adventure|Children|Fantasy        110.0    3.431818   \n",
       "2                               Comedy|Romance         52.0    3.259615   \n",
       "3                         Comedy|Drama|Romance          7.0    2.357143   \n",
       "4                                       Comedy         49.0    3.071429   \n",
       "\n",
       "   weighted_avg  \n",
       "0      3.787796  \n",
       "1      3.465027  \n",
       "2      3.418787  \n",
       "3      3.426689  \n",
       "4      3.360105  "
      ]
     },
     "execution_count": 46,
     "metadata": {},
     "output_type": "execute_result"
    }
   ],
   "source": [
    "movies_new.head()"
   ]
  },
  {
   "cell_type": "code",
   "execution_count": 47,
   "metadata": {},
   "outputs": [
    {
     "name": "stdout",
     "output_type": "stream",
     "text": [
      "RMSE:  1.042592009041935\n",
      "RMSE:  1.0504471358505316\n",
      "RMSE:  1.0386264206084166\n",
      "RMSE:  1.049384149259346\n",
      "RMSE:  1.0522461872327022\n",
      "RMSE:  1.0443170119984602\n",
      "RMSE:  1.024050141009059\n",
      "RMSE:  1.0385977498056458\n",
      "RMSE:  1.0399070153938026\n",
      "RMSE:  1.0448155066265055\n",
      "The average of rmse is 1.0424983326826405\n"
     ]
    }
   ],
   "source": [
    "from sklearn.linear_model import LinearRegression\n",
    "from sklearn.metrics import mean_squared_error\n",
    "\n",
    "#User Rating Average Matrix\n",
    "user_avg = ratings.groupby('userId').mean().rating.values\n",
    "#Movie Rating Average Matrix\n",
    "movie_avg = movies_new[['movieId','weighted_avg']]\n",
    "\n",
    "def data_split(idx):\n",
    "    data = ratings.iloc[idx]\n",
    "    X = data[['userId','movieId']]\n",
    "    X['u_bias'] = X.apply(lambda x: user_avg[x['userId']-1], axis=1)\n",
    "    X = X.drop(['userId'],axis=1)\n",
    "    X = pd.merge(X,movie_avg,on='movieId')\n",
    "    X = X.drop(['movieId'],axis=1).values\n",
    "    y = data.rating.values\n",
    "    return (X,y)\n",
    "\n",
    "RMSEs = []\n",
    "for train_idx,test_idx in kf.split(ratings):\n",
    "    train_X,train_y = data_split(train_idx)\n",
    "    test_X, test_y = data_split(test_idx)    \n",
    "    clf = LinearRegression()\n",
    "    clf.fit(train_X,train_y)\n",
    "    y_pred = clf.predict(test_X)\n",
    "    rmse = np.sqrt(mean_squared_error(y_pred,test_y))\n",
    "    RMSEs.append(rmse)\n",
    "    print('RMSE: ',rmse)\n",
    "print('The average of rmse is', np.mean(RMSEs))"
   ]
  },
  {
   "cell_type": "markdown",
   "metadata": {},
   "source": [
    "### Collaborative Filtering Approach\n",
    "Collaborative filtering (CF) technique is very commonly used in recommendation systems. CF models work based on the assuption that similar users share the same interest and that similar items are liked by a user. Matrix Factorization(MF) is one class of CF used in recommender systems."
   ]
  },
  {
   "attachments": {
    "svd_breakdown.png": {
     "image/png": "[encoded data removed]"
    }
   },
   "cell_type": "markdown",
   "metadata": {},
   "source": [
    "###  Singular Value Decomposition (SVD)\n",
    "SVD is a latent-factor approach of MF methods. Feature space is reduced to capture user-item correlations. Below is a diagram of SVD algorithms.\n",
    "<img src=\"attachment:svd_breakdown.png\" width=\"600\">"
   ]
  },
  {
   "cell_type": "code",
   "execution_count": 89,
   "metadata": {},
   "outputs": [
    {
     "name": "stdout",
     "output_type": "stream",
     "text": [
      "0.8876008566236389\n",
      "{'n_epochs': 10, 'lr_all': 0.005, 'reg_all': 0.4}\n"
     ]
    }
   ],
   "source": [
    "from surprise import Reader,Dataset\n",
    "from surprise import SVD\n",
    "from surprise import accuracy\n",
    "from surprise.model_selection import GridSearchCV\n",
    "\n",
    "#Basic SVD implementation from Surprise : https://surprise.readthedocs.io/en/stable/index.html\n",
    "reader = Reader(rating_scale=(1,5))\n",
    "R = Dataset.load_from_df(ratings,reader)\n",
    "\n",
    "param_grid = {'n_epochs': [5, 10], 'lr_all': [0.002, 0.005], 'reg_all': [0.4, 0.6]}\n",
    "svd_gs = GridSearchCV(SVD, param_grid, measures=['rmse'], cv=10, refit=True)\n",
    "\n",
    "svd_gs.fit(R)\n",
    "\n",
    "print(svd_gs.best_score['rmse'])\n",
    "print(svd_gs.best_params['rmse'])"
   ]
  },
  {
   "cell_type": "code",
   "execution_count": 45,
   "metadata": {},
   "outputs": [
    {
     "data": {
      "text/plain": [
       "{'test_rmse': array([0.90335782, 0.90793115, 0.92540687, 0.91106611, 0.91105485,\n",
       "        0.91139667, 0.91423155, 0.90460128, 0.91150793, 0.92276759]),\n",
       " 'test_mae': array([0.69509491, 0.69444536, 0.7114219 , 0.69866845, 0.69884661,\n",
       "        0.69324839, 0.69925571, 0.69213991, 0.69768433, 0.70674433]),\n",
       " 'fit_time': (4.254696607589722,\n",
       "  4.165010213851929,\n",
       "  4.1646342277526855,\n",
       "  4.137763500213623,\n",
       "  4.376805305480957,\n",
       "  4.942785024642944,\n",
       "  4.509955406188965,\n",
       "  4.33752703666687,\n",
       "  4.420603036880493,\n",
       "  4.480296850204468),\n",
       " 'test_time': (0.03798842430114746,\n",
       "  0.03692197799682617,\n",
       "  0.03761005401611328,\n",
       "  0.0408787727355957,\n",
       "  0.05138969421386719,\n",
       "  0.0369877815246582,\n",
       "  0.0367739200592041,\n",
       "  0.03636813163757324,\n",
       "  0.0386347770690918,\n",
       "  0.04852557182312012)}"
      ]
     },
     "execution_count": 45,
     "metadata": {},
     "output_type": "execute_result"
    }
   ],
   "source": [
    "# Surprise Implementation of Non-negative Matrix Factorization\n",
    "import surprise\n",
    "from surprise.model_selection import cross_validate\n",
    "\n",
    "algo2 = surprise.NMF()\n",
    "cross_validate(algo2,R,cv=10)"
   ]
  },
  {
   "cell_type": "markdown",
   "metadata": {},
   "source": [
    "#### Get Top-N Recommendations"
   ]
  },
  {
   "cell_type": "code",
   "execution_count": 91,
   "metadata": {},
   "outputs": [],
   "source": [
    "#Build testset\n",
    "test = R.build_full_trainset().build_anti_testset()\n",
    "#Get predictions\n",
    "pred = svd_gs.test(test)"
   ]
  },
  {
   "cell_type": "code",
   "execution_count": 92,
   "metadata": {},
   "outputs": [
    {
     "name": "stdout",
     "output_type": "stream",
     "text": [
      "Top N recommendations:\n",
      "Title:  Shawshank Redemption, The (1994)\n",
      "Title:  Dr. Strangelove or: How I Learned to Stop Worrying and Love the Bomb (1964)\n",
      "Title:  Godfather, The (1972)\n",
      "Title:  Lawrence of Arabia (1962)\n",
      "Title:  Rear Window (1954)\n",
      "Title:  Departed, The (2006)\n",
      "Title:  Godfather: Part II, The (1974)\n",
      "Title:  Casablanca (1942)\n",
      "Title:  Cool Hand Luke (1967)\n",
      "Title:  Amelie (Fabuleux destin d'Amélie Poulain, Le) (2001)\n"
     ]
    }
   ],
   "source": [
    "movies = pd.read_csv('processed_data/movies_new.csv')\n",
    "\n",
    "def find_top_n(userId , n , pred):\n",
    "    top_n=[]\n",
    "    for uid,mid,_,est,_ in pred:\n",
    "        if (uid==userId):\n",
    "            top_n.append((mid,est))\n",
    "    \n",
    "    top_n.sort(key=lambda x:x[1], reverse=True)\n",
    "    print ('Top N recommendations:')\n",
    "    for i in range(n):\n",
    "        mid = top_n[i][0]\n",
    "        score = top_n[i][1]\n",
    "        movie_title = movies[movies['movieId']==mid].title.values\n",
    "        print ('Title: ', movie_title[0])\n",
    "        \n",
    "find_top_n(1,10,pred)"
   ]
  },
  {
   "cell_type": "markdown",
   "metadata": {},
   "source": [
    "### Content-Based Approach "
   ]
  },
  {
   "cell_type": "code",
   "execution_count": 94,
   "metadata": {},
   "outputs": [
    {
     "data": {
      "text/html": [
       "<div>\n",
       "<table border=\"1\" class=\"dataframe\">\n",
       "  <thead>\n",
       "    <tr style=\"text-align: right;\">\n",
       "      <th></th>\n",
       "      <th>userId</th>\n",
       "      <th>movieId</th>\n",
       "      <th>rating</th>\n",
       "    </tr>\n",
       "  </thead>\n",
       "  <tbody>\n",
       "    <tr>\n",
       "      <th>0</th>\n",
       "      <td>1</td>\n",
       "      <td>1</td>\n",
       "      <td>4.0</td>\n",
       "    </tr>\n",
       "    <tr>\n",
       "      <th>1</th>\n",
       "      <td>1</td>\n",
       "      <td>3</td>\n",
       "      <td>4.0</td>\n",
       "    </tr>\n",
       "    <tr>\n",
       "      <th>2</th>\n",
       "      <td>1</td>\n",
       "      <td>6</td>\n",
       "      <td>4.0</td>\n",
       "    </tr>\n",
       "    <tr>\n",
       "      <th>3</th>\n",
       "      <td>1</td>\n",
       "      <td>47</td>\n",
       "      <td>5.0</td>\n",
       "    </tr>\n",
       "    <tr>\n",
       "      <th>4</th>\n",
       "      <td>1</td>\n",
       "      <td>50</td>\n",
       "      <td>5.0</td>\n",
       "    </tr>\n",
       "  </tbody>\n",
       "</table>\n",
       "</div>"
      ],
      "text/plain": [
       "   userId  movieId  rating\n",
       "0       1        1     4.0\n",
       "1       1        3     4.0\n",
       "2       1        6     4.0\n",
       "3       1       47     5.0\n",
       "4       1       50     5.0"
      ]
     },
     "execution_count": 94,
     "metadata": {},
     "output_type": "execute_result"
    }
   ],
   "source": [
    "ratings.head()"
   ]
  },
  {
   "cell_type": "code",
   "execution_count": 124,
   "metadata": {},
   "outputs": [],
   "source": [
    "def user_profile(Id):\n",
    "    viewed = ratings[ratings.userId==Id]\n",
    "    viewed = viewed.merge(movies_feature,on='movieId')\n",
    "    genres = np.zeros(len(genre_set))\n",
    "    for i in range(len(genre_set)):\n",
    "        num_of_g = viewed[genre].sum()\n",
    "        genres[i] = num_of_g\n",
    "\n",
    "    genre_list = list(genre_set)\n",
    "    fav_3 = np.argsort(genres)[-3:]\n",
    "    return [genre_list[fav_3[2]],genre_list[fav_3[1]],genre_list[fav_3[0]]]    "
   ]
  },
  {
   "cell_type": "code",
   "execution_count": 126,
   "metadata": {},
   "outputs": [
    {
     "name": "stdout",
     "output_type": "stream",
     "text": [
      "Get user 1's favorite genres: ['Fantasy', 'War', 'Documentary']\n"
     ]
    }
   ],
   "source": [
    "print('Get user 1\\'s favorite genres:', user_profile(1))"
   ]
  },
  {
   "cell_type": "code",
   "execution_count": 131,
   "metadata": {},
   "outputs": [],
   "source": [
    "def recommend_top_from_genre(genre,Id):\n",
    "    viewed = ratings[ratings.userId==Id].movieId\n",
    "    not_viewed = movies_feature.set_index('movieId')\n",
    "    not_viewed = not_viewed.drop(viewed)\n",
    "    print(not_viewed[not_viewed[genre]==1].sort_values(['weighted_avg'],ascending=False).title.head(5))    "
   ]
  },
  {
   "cell_type": "code",
   "execution_count": 133,
   "metadata": {},
   "outputs": [
    {
     "name": "stdout",
     "output_type": "stream",
     "text": [
      "Recommendations based on genre:  Fantasy\n",
      "movieId\n",
      "4993    Lord of the Rings: The Fellowship of the Ring,...\n",
      "7153    Lord of the Rings: The Return of the King, The...\n",
      "5952        Lord of the Rings: The Two Towers, The (2002)\n",
      "5618    Spirited Away (Sen to Chihiro no kamikakushi) ...\n",
      "1199                                        Brazil (1985)\n",
      "Name: title, dtype: object\n",
      "Recommendations based on genre:  War\n",
      "movieId\n",
      "750      Dr. Strangelove or: How I Learned to Stop Worr...\n",
      "2324            Life Is Beautiful (La Vita è bella) (1997)\n",
      "68157                          Inglourious Basterds (2009)\n",
      "1204                             Lawrence of Arabia (1962)\n",
      "1233                          Boot, Das (Boat, The) (1981)\n",
      "Name: title, dtype: object\n",
      "Recommendations based on genre:  Documentary\n",
      "movieId\n",
      "246                                     Hoop Dreams (1994)\n",
      "162                                           Crumb (1994)\n",
      "5669                          Bowling for Columbine (2002)\n",
      "7156     Fog of War: Eleven Lessons from the Life of Ro...\n",
      "80906                                    Inside Job (2010)\n",
      "Name: title, dtype: object\n"
     ]
    }
   ],
   "source": [
    "Id = 1\n",
    "fav_genres = user_profile(Id)\n",
    "for g in fav_genres:\n",
    "    print('Recommendations based on genre: ',g)\n",
    "    recommend_top_from_genre(g,Id)"
   ]
  }
 ],
 "metadata": {
  "kernelspec": {
   "display_name": "Python 3",
   "language": "python",
   "name": "python3"
  },
  "language_info": {
   "codemirror_mode": {
    "name": "ipython",
    "version": 3
   },
   "file_extension": ".py",
   "mimetype": "text/x-python",
   "name": "python",
   "nbconvert_exporter": "python",
   "pygments_lexer": "ipython3",
   "version": "3.6.8"
  }
 },
 "nbformat": 4,
 "nbformat_minor": 2
}
