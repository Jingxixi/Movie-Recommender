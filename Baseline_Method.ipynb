{
 "cells": [
  {
   "cell_type": "markdown",
   "metadata": {},
   "source": [
    "## Baseline Method for Movie Recommendation System"
   ]
  },
  {
   "cell_type": "code",
   "execution_count": 1,
   "metadata": {},
   "outputs": [],
   "source": [
    "import pandas as pd\n",
    "import numpy as np"
   ]
  },
  {
   "cell_type": "markdown",
   "metadata": {},
   "source": [
    "### Load Dataset"
   ]
  },
  {
   "cell_type": "code",
   "execution_count": 2,
   "metadata": {},
   "outputs": [
    {
     "data": {
      "text/html": [
       "<div>\n",
       "<table border=\"1\" class=\"dataframe\">\n",
       "  <thead>\n",
       "    <tr style=\"text-align: right;\">\n",
       "      <th></th>\n",
       "      <th>userId</th>\n",
       "      <th>movieId</th>\n",
       "      <th>rating</th>\n",
       "      <th>timestamp</th>\n",
       "    </tr>\n",
       "  </thead>\n",
       "  <tbody>\n",
       "    <tr>\n",
       "      <th>0</th>\n",
       "      <td>1</td>\n",
       "      <td>1</td>\n",
       "      <td>4.0</td>\n",
       "      <td>964982703</td>\n",
       "    </tr>\n",
       "    <tr>\n",
       "      <th>1</th>\n",
       "      <td>1</td>\n",
       "      <td>3</td>\n",
       "      <td>4.0</td>\n",
       "      <td>964981247</td>\n",
       "    </tr>\n",
       "    <tr>\n",
       "      <th>2</th>\n",
       "      <td>1</td>\n",
       "      <td>6</td>\n",
       "      <td>4.0</td>\n",
       "      <td>964982224</td>\n",
       "    </tr>\n",
       "    <tr>\n",
       "      <th>3</th>\n",
       "      <td>1</td>\n",
       "      <td>47</td>\n",
       "      <td>5.0</td>\n",
       "      <td>964983815</td>\n",
       "    </tr>\n",
       "    <tr>\n",
       "      <th>4</th>\n",
       "      <td>1</td>\n",
       "      <td>50</td>\n",
       "      <td>5.0</td>\n",
       "      <td>964982931</td>\n",
       "    </tr>\n",
       "  </tbody>\n",
       "</table>\n",
       "</div>"
      ],
      "text/plain": [
       "   userId  movieId  rating  timestamp\n",
       "0       1        1     4.0  964982703\n",
       "1       1        3     4.0  964981247\n",
       "2       1        6     4.0  964982224\n",
       "3       1       47     5.0  964983815\n",
       "4       1       50     5.0  964982931"
      ]
     },
     "execution_count": 2,
     "metadata": {},
     "output_type": "execute_result"
    }
   ],
   "source": [
    "ratings = pd.read_csv('./data/ml-small/ratings.csv')\n",
    "ratings.head()"
   ]
  },
  {
   "cell_type": "code",
   "execution_count": 3,
   "metadata": {},
   "outputs": [],
   "source": [
    "ratings = ratings.drop(['timestamp'],axis=1)"
   ]
  },
  {
   "cell_type": "code",
   "execution_count": 4,
   "metadata": {},
   "outputs": [
    {
     "data": {
      "text/html": [
       "<div>\n",
       "<table border=\"1\" class=\"dataframe\">\n",
       "  <thead>\n",
       "    <tr style=\"text-align: right;\">\n",
       "      <th></th>\n",
       "      <th>movieId</th>\n",
       "      <th>title</th>\n",
       "      <th>genres</th>\n",
       "      <th>num_ratings</th>\n",
       "      <th>avg_rating</th>\n",
       "      <th>year</th>\n",
       "      <th>weighted_avg</th>\n",
       "    </tr>\n",
       "  </thead>\n",
       "  <tbody>\n",
       "    <tr>\n",
       "      <th>0</th>\n",
       "      <td>1</td>\n",
       "      <td>Toy Story (1995)</td>\n",
       "      <td>Adventure|Animation|Children|Comedy|Fantasy</td>\n",
       "      <td>215.0</td>\n",
       "      <td>3.920930</td>\n",
       "      <td>1995.0</td>\n",
       "      <td>3.787796</td>\n",
       "    </tr>\n",
       "    <tr>\n",
       "      <th>1</th>\n",
       "      <td>2</td>\n",
       "      <td>Jumanji (1995)</td>\n",
       "      <td>Adventure|Children|Fantasy</td>\n",
       "      <td>110.0</td>\n",
       "      <td>3.431818</td>\n",
       "      <td>1995.0</td>\n",
       "      <td>3.465027</td>\n",
       "    </tr>\n",
       "    <tr>\n",
       "      <th>2</th>\n",
       "      <td>3</td>\n",
       "      <td>Grumpier Old Men (1995)</td>\n",
       "      <td>Comedy|Romance</td>\n",
       "      <td>52.0</td>\n",
       "      <td>3.259615</td>\n",
       "      <td>1995.0</td>\n",
       "      <td>3.418787</td>\n",
       "    </tr>\n",
       "    <tr>\n",
       "      <th>3</th>\n",
       "      <td>4</td>\n",
       "      <td>Waiting to Exhale (1995)</td>\n",
       "      <td>Comedy|Drama|Romance</td>\n",
       "      <td>7.0</td>\n",
       "      <td>2.357143</td>\n",
       "      <td>1995.0</td>\n",
       "      <td>3.426689</td>\n",
       "    </tr>\n",
       "    <tr>\n",
       "      <th>4</th>\n",
       "      <td>5</td>\n",
       "      <td>Father of the Bride Part II (1995)</td>\n",
       "      <td>Comedy</td>\n",
       "      <td>49.0</td>\n",
       "      <td>3.071429</td>\n",
       "      <td>1995.0</td>\n",
       "      <td>3.360105</td>\n",
       "    </tr>\n",
       "  </tbody>\n",
       "</table>\n",
       "</div>"
      ],
      "text/plain": [
       "   movieId                               title  \\\n",
       "0        1                    Toy Story (1995)   \n",
       "1        2                      Jumanji (1995)   \n",
       "2        3             Grumpier Old Men (1995)   \n",
       "3        4            Waiting to Exhale (1995)   \n",
       "4        5  Father of the Bride Part II (1995)   \n",
       "\n",
       "                                        genres  num_ratings  avg_rating  \\\n",
       "0  Adventure|Animation|Children|Comedy|Fantasy        215.0    3.920930   \n",
       "1                   Adventure|Children|Fantasy        110.0    3.431818   \n",
       "2                               Comedy|Romance         52.0    3.259615   \n",
       "3                         Comedy|Drama|Romance          7.0    2.357143   \n",
       "4                                       Comedy         49.0    3.071429   \n",
       "\n",
       "     year  weighted_avg  \n",
       "0  1995.0      3.787796  \n",
       "1  1995.0      3.465027  \n",
       "2  1995.0      3.418787  \n",
       "3  1995.0      3.426689  \n",
       "4  1995.0      3.360105  "
      ]
     },
     "execution_count": 4,
     "metadata": {},
     "output_type": "execute_result"
    }
   ],
   "source": [
    "movies = pd.read_csv('processed_data/movies_new.csv')\n",
    "movies.head()"
   ]
  },
  {
   "cell_type": "code",
   "execution_count": 5,
   "metadata": {},
   "outputs": [
    {
     "data": {
      "text/plain": [
       "count     610.000000\n",
       "mean      165.304918\n",
       "std       269.480584\n",
       "min        20.000000\n",
       "25%        35.000000\n",
       "50%        70.500000\n",
       "75%       168.000000\n",
       "max      2698.000000\n",
       "dtype: float64"
      ]
     },
     "execution_count": 5,
     "metadata": {},
     "output_type": "execute_result"
    }
   ],
   "source": [
    "# Stats of ratings by each user.\n",
    "ratings.groupby('userId').size().describe()"
   ]
  },
  {
   "cell_type": "markdown",
   "metadata": {},
   "source": [
    "### Data Partitioning"
   ]
  },
  {
   "cell_type": "markdown",
   "metadata": {},
   "source": [
    "#### Method 1: Leave-one-out\n",
    "Leave-one-out is withhold one rated item from each user for evaluation. This train/test split is better used to evaluate users who are already in the system."
   ]
  },
  {
   "cell_type": "code",
   "execution_count": 6,
   "metadata": {},
   "outputs": [],
   "source": [
    "def leave_one_out(df): # ratings dataframe, cols: userId, movieId, rating\n",
    "    user_names = df.userId.unique()\n",
    "    test = pd.DataFrame()\n",
    "    for user in user_names:\n",
    "        test = test.append(df[df['userId']==user].sample(n=1))\n",
    "    train = df.loc[~df.index.isin(test.index)]\n",
    "    return train,test\n",
    "\n",
    "# Uncomment below if use this method\n",
    "# train,test = leave_one_out(ratings)\n",
    "# print(test.info())"
   ]
  },
  {
   "cell_type": "markdown",
   "metadata": {},
   "source": [
    "#### Method 2: Holdout: m-fold cross validation\n",
    "Suggested number of fold is 10. This technique is suitable to evaluate capability of the model dealing with new users."
   ]
  },
  {
   "cell_type": "code",
   "execution_count": 7,
   "metadata": {},
   "outputs": [],
   "source": [
    "from sklearn.model_selection import KFold\n",
    "kf = KFold(n_splits = 10, shuffle = True, random_state=1234)\n",
    "for train_idx,test_idx in kf.split(ratings):\n",
    "    train = ratings.iloc[train_idx]\n",
    "    test = ratings.iloc[test_idx]"
   ]
  },
  {
   "cell_type": "markdown",
   "metadata": {},
   "source": [
    "### Baseline Method\n",
    "The baseline method used here is basic linear regression. Features (X) used are user average rating and weighted movie rating. And predictions(y) are user's rating for each movie."
   ]
  },
  {
   "cell_type": "code",
   "execution_count": 8,
   "metadata": {},
   "outputs": [
    {
     "name": "stdout",
     "output_type": "stream",
     "text": [
      "RMSE:  1.042592009041935\n",
      "RMSE:  1.0504471358505316\n",
      "RMSE:  1.0386264206084166\n",
      "RMSE:  1.049384149259346\n",
      "RMSE:  1.0522461872327022\n",
      "RMSE:  1.0443170119984602\n",
      "RMSE:  1.024050141009059\n",
      "RMSE:  1.0385977498056458\n",
      "RMSE:  1.0399070153938026\n",
      "RMSE:  1.0448155066265055\n",
      "The average of rmse is 1.0424983326826405\n"
     ]
    }
   ],
   "source": [
    "from sklearn.linear_model import LinearRegression\n",
    "from sklearn.metrics import mean_squared_error\n",
    "\n",
    "#User Rating Average Matrix\n",
    "user_avg = ratings.groupby('userId').mean().rating.values\n",
    "#Movie Rating Average Matrix\n",
    "movie_avg = movies[['movieId','weighted_avg']]\n",
    "\n",
    "def data_split(idx):\n",
    "    data = ratings.iloc[idx]\n",
    "    X = data[['userId','movieId']]\n",
    "    X['u_bias'] = X.apply(lambda x: user_avg[x['userId']-1], axis=1)\n",
    "    X = X.drop(['userId'],axis=1)\n",
    "    X = pd.merge(X,movie_avg,on='movieId')\n",
    "    X = X.drop(['movieId'],axis=1).values\n",
    "    y = data.rating.values\n",
    "    return (X,y)\n",
    "\n",
    "RMSEs = []\n",
    "for train_idx,test_idx in kf.split(ratings):\n",
    "    train_X,train_y = data_split(train_idx)\n",
    "    test_X, test_y = data_split(test_idx)    \n",
    "    clf = LinearRegression()\n",
    "    clf.fit(train_X,train_y)\n",
    "    y_pred = clf.predict(test_X)\n",
    "    rmse = np.sqrt(mean_squared_error(y_pred,test_y))\n",
    "    RMSEs.append(rmse)\n",
    "    print('RMSE: ',rmse)\n",
    "print('The average of rmse is', np.mean(RMSEs))"
   ]
  },
  {
   "cell_type": "code",
   "execution_count": null,
   "metadata": {},
   "outputs": [],
   "source": []
  },
  {
   "cell_type": "code",
   "execution_count": null,
   "metadata": {},
   "outputs": [],
   "source": []
  },
  {
   "cell_type": "code",
   "execution_count": null,
   "metadata": {},
   "outputs": [],
   "source": []
  }
 ],
 "metadata": {
  "kernelspec": {
   "display_name": "Python 3",
   "language": "python",
   "name": "python3"
  },
  "language_info": {
   "codemirror_mode": {
    "name": "ipython",
    "version": 3
   },
   "file_extension": ".py",
   "mimetype": "text/x-python",
   "name": "python",
   "nbconvert_exporter": "python",
   "pygments_lexer": "ipython3",
   "version": "3.6.7"
  }
 },
 "nbformat": 4,
 "nbformat_minor": 2
}
